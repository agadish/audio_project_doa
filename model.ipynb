{
 "cells": [
  {
   "cell_type": "code",
   "execution_count": 1,
   "metadata": {},
   "outputs": [],
   "source": [
    "import torch\n",
    "from torch import nn\n",
    "from torch.utils.data import DataLoader\n",
    "from lightning_trainer import UnetDACLighting\n",
    "from lightning.pytorch.callbacks.early_stopping import EarlyStopping\n",
    "from lightning.pytorch.loggers import WandbLogger, TensorBoardLogger\n",
    "\n",
    "from audio_dataset import DictTorchPartedDataset, PinDictTorchPartedDataset\n",
    "\n",
    "from unet_dac import UnetDAC\n",
    "import lightning as L"
   ]
  },
  {
   "cell_type": "code",
   "execution_count": 2,
   "metadata": {},
   "outputs": [
    {
     "name": "stderr",
     "output_type": "stream",
     "text": [
      "GPU available: True (cuda), used: True\n",
      "TPU available: False, using: 0 TPU cores\n",
      "IPU available: False, using: 0 IPUs\n",
      "HPU available: False, using: 0 HPUs\n"
     ]
    }
   ],
   "source": [
    "from config import NUM_MICS, ANGLE_RES\n",
    "\n",
    "\n",
    "L_v = 96\n",
    "K = 256\n",
    "# INPUT_LEN = 64\n",
    "# VIRTUAL_BATCH_SIZE = 1\n",
    "device = torch.device(\"cuda\" if torch.cuda.is_available() else \"cpu\")\n",
    "model = UnetDAC(L=L_v, K=K, M=NUM_MICS).to(device)\n",
    "\n",
    "lr = 1e-3\n",
    "train_bs = 64\n",
    "validation_bs = train_bs\n",
    "model_name = f\"unet_doa_batch{train_bs}_lr{lr:.0e}_v4\"\n",
    "\n",
    "logger = TensorBoardLogger(\"tb_logs\", name=model_name)\n",
    "\n",
    "criterion = nn.CrossEntropyLoss()"
   ]
  },
  {
   "cell_type": "markdown",
   "metadata": {},
   "source": [
    "# Training #"
   ]
  },
  {
   "cell_type": "code",
   "execution_count": 3,
   "metadata": {},
   "outputs": [],
   "source": [
    "model_lighting = UnetDACLighting(model, criterion, lr)\n",
    "\n",
    "trainer = L.Trainer(max_epochs=100,\n",
    "                    callbacks=[EarlyStopping(monitor=\"val_loss\", mode=\"min\", patience=5)],\n",
    "                    default_root_dir=model_name,\n",
    "                    log_every_n_steps=9,\n",
    "                    logger=logger, auto_lr_find=True)"
   ]
  },
  {
   "cell_type": "code",
   "execution_count": 4,
   "metadata": {},
   "outputs": [],
   "source": [
    "train_dataset = PinDictTorchPartedDataset('data_batches', 'train06r076v3' , ['samples', 'target'], real_batch_size=64, virtual_batch_size=1, device=device)\n",
    "validation_dataset = PinDictTorchPartedDataset('data_batches', 'validation06r076v3' , ['samples', 'target'], real_batch_size=64, virtual_batch_size=1, device=device)\n",
    "\n",
    "train_dataloader = DataLoader(train_dataset, batch_size=train_bs, shuffle=True, num_workers=4, persistent_workers=True, prefetch_factor=16)\n",
    "valiadtion_dataloader = DataLoader(validation_dataset, batch_size=validation_bs, shuffle=False, num_workers=1, persistent_workers=True, prefetch_factor=16)"
   ]
  },
  {
   "cell_type": "code",
   "execution_count": 5,
   "metadata": {},
   "outputs": [
    {
     "name": "stderr",
     "output_type": "stream",
     "text": [
      "LOCAL_RANK: 0 - CUDA_VISIBLE_DEVICES: [0]\n",
      "c:\\Users\\agadi\\miniconda3\\envs\\audio_env\\lib\\site-packages\\torch\\optim\\lr_scheduler.py:28: UserWarning: The verbose parameter is deprecated. Please use get_last_lr() to access the learning rate.\n",
      "  warnings.warn(\"The verbose parameter is deprecated. Please use get_last_lr() \"\n",
      "c:\\Users\\agadi\\miniconda3\\envs\\audio_env\\lib\\site-packages\\lightning\\pytorch\\core\\optimizer.py:257: Found unsupported keys in the lr scheduler dict: {'verbose', 'patience', 'mode', 'factor'}. HINT: remove them from the output of `configure_optimizers`.\n",
      "\n",
      "  | Name    | Type             | Params\n",
      "---------------------------------------------\n",
      "0 | model   | UnetDAC          | 1.9 M \n",
      "1 | loss_fn | CrossEntropyLoss | 0     \n",
      "---------------------------------------------\n",
      "1.9 M     Trainable params\n",
      "0         Non-trainable params\n",
      "1.9 M     Total params\n",
      "7.772     Total estimated model params size (MB)\n"
     ]
    },
    {
     "data": {
      "application/vnd.jupyter.widget-view+json": {
       "model_id": "3786d81d5a674112bb0e0d6bf7ed3b84",
       "version_major": 2,
       "version_minor": 0
      },
      "text/plain": [
       "Sanity Checking: |          | 0/? [00:00<?, ?it/s]"
      ]
     },
     "metadata": {},
     "output_type": "display_data"
    },
    {
     "name": "stderr",
     "output_type": "stream",
     "text": [
      "c:\\Users\\agadi\\miniconda3\\envs\\audio_env\\lib\\site-packages\\lightning\\pytorch\\trainer\\connectors\\data_connector.py:441: The 'val_dataloader' does not have many workers which may be a bottleneck. Consider increasing the value of the `num_workers` argument` to `num_workers=11` in the `DataLoader` to improve performance.\n"
     ]
    },
    {
     "data": {
      "application/vnd.jupyter.widget-view+json": {
       "model_id": "1758806eb2b8464c82661a5cfa557dc5",
       "version_major": 2,
       "version_minor": 0
      },
      "text/plain": [
       "Training: |          | 0/? [00:00<?, ?it/s]"
      ]
     },
     "metadata": {},
     "output_type": "display_data"
    },
    {
     "data": {
      "application/vnd.jupyter.widget-view+json": {
       "model_id": "c48392b73d43423f9f27157970286376",
       "version_major": 2,
       "version_minor": 0
      },
      "text/plain": [
       "Validation: |          | 0/? [00:00<?, ?it/s]"
      ]
     },
     "metadata": {},
     "output_type": "display_data"
    },
    {
     "data": {
      "application/vnd.jupyter.widget-view+json": {
       "model_id": "ef49f0841a4c4dc0931d8b7ade094464",
       "version_major": 2,
       "version_minor": 0
      },
      "text/plain": [
       "Validation: |          | 0/? [00:00<?, ?it/s]"
      ]
     },
     "metadata": {},
     "output_type": "display_data"
    },
    {
     "data": {
      "application/vnd.jupyter.widget-view+json": {
       "model_id": "1a44d2a0e57c4462982d07bf12372c9c",
       "version_major": 2,
       "version_minor": 0
      },
      "text/plain": [
       "Validation: |          | 0/? [00:00<?, ?it/s]"
      ]
     },
     "metadata": {},
     "output_type": "display_data"
    },
    {
     "data": {
      "application/vnd.jupyter.widget-view+json": {
       "model_id": "74dfa6f3e27f4c4a82842858eb91a19c",
       "version_major": 2,
       "version_minor": 0
      },
      "text/plain": [
       "Validation: |          | 0/? [00:00<?, ?it/s]"
      ]
     },
     "metadata": {},
     "output_type": "display_data"
    },
    {
     "data": {
      "application/vnd.jupyter.widget-view+json": {
       "model_id": "5728d1cff9d4439bb5e5406175a05e38",
       "version_major": 2,
       "version_minor": 0
      },
      "text/plain": [
       "Validation: |          | 0/? [00:00<?, ?it/s]"
      ]
     },
     "metadata": {},
     "output_type": "display_data"
    },
    {
     "data": {
      "application/vnd.jupyter.widget-view+json": {
       "model_id": "685d62e65dbf45a191f48d88a849d03e",
       "version_major": 2,
       "version_minor": 0
      },
      "text/plain": [
       "Validation: |          | 0/? [00:00<?, ?it/s]"
      ]
     },
     "metadata": {},
     "output_type": "display_data"
    },
    {
     "data": {
      "application/vnd.jupyter.widget-view+json": {
       "model_id": "1ecdcb88f5f7482d8054c391442136cb",
       "version_major": 2,
       "version_minor": 0
      },
      "text/plain": [
       "Validation: |          | 0/? [00:00<?, ?it/s]"
      ]
     },
     "metadata": {},
     "output_type": "display_data"
    },
    {
     "data": {
      "application/vnd.jupyter.widget-view+json": {
       "model_id": "ec5caaff2aba46f2a263e4e5429db932",
       "version_major": 2,
       "version_minor": 0
      },
      "text/plain": [
       "Validation: |          | 0/? [00:00<?, ?it/s]"
      ]
     },
     "metadata": {},
     "output_type": "display_data"
    },
    {
     "data": {
      "application/vnd.jupyter.widget-view+json": {
       "model_id": "8795d082019e4651bcfb6c3742ae12ed",
       "version_major": 2,
       "version_minor": 0
      },
      "text/plain": [
       "Validation: |          | 0/? [00:00<?, ?it/s]"
      ]
     },
     "metadata": {},
     "output_type": "display_data"
    }
   ],
   "source": [
    "# model_lighting = UnetDACLighting(model, criterion, lr)\n",
    "# model_lighting = UnetDACLighting.load_from_checkpoint('tb_logs/unet_doa_batch64_lr1e-03_v4/version_1/checkpoints/epoch=42-step=4042.ckpt', model=model, loss_fn=criterion)\n",
    "# model_lighting = UnetDACLighting.load_from_checkpoint('tb_logs/unet_doa_batch64_lr1e-03_v4/version_12/checkpoints/epoch=4-step=470.ckpt', model=model, loss_fn=criterion)\n",
    "model_lighting = UnetDACLighting.load_from_checkpoint('tb_logs/unet_doa_batch64_lr1e-03_v4/version_13/checkpoints/epoch=5-step=564.ckpt', model=model, loss_fn=criterion)\n",
    "\n",
    "model_lighting.lr = 1e-4\n",
    "\n",
    "# wandb_logger = WandbLogger(log_model=\"all\", project='AudioDOA', name='bs=64,sig0.6 clean. 0.76 with reverb')\n",
    "\n",
    "trainer.fit(model_lighting, train_dataloaders=train_dataloader, val_dataloaders=valiadtion_dataloader)\n",
    "# trainer.test(model_lighting, dataloaders=test_dataloader)"
   ]
  },
  {
   "cell_type": "markdown",
   "metadata": {},
   "source": [
    "# Testing #"
   ]
  },
  {
   "cell_type": "code",
   "execution_count": 7,
   "metadata": {},
   "outputs": [],
   "source": [
    "model_lighting = UnetDACLighting.load_from_checkpoint('tb_logs/unet_doa_batch64_lr1e-03_v4/version_12/checkpoints/epoch=4-step=470.ckpt', model=model, loss_fn=criterion)"
   ]
  },
  {
   "cell_type": "code",
   "execution_count": 6,
   "metadata": {},
   "outputs": [],
   "source": [
    "test_dataset = PinDictTorchPartedDataset('data_batches', 'test2r0168v4' , ['samples', 'ref_stft', 'target', 'mixed_signals', 'perceived_signals', 'radii', 'reverbs'], real_batch_size=60, virtual_batch_size=1, device=device)\n",
    "test_dataloader = DataLoader(test_dataset, batch_size=1, shuffle=False)"
   ]
  },
  {
   "cell_type": "code",
   "execution_count": 7,
   "metadata": {},
   "outputs": [
    {
     "name": "stderr",
     "output_type": "stream",
     "text": [
      "LOCAL_RANK: 0 - CUDA_VISIBLE_DEVICES: [0]\n",
      "c:\\Users\\agadi\\miniconda3\\envs\\audio_env\\lib\\site-packages\\lightning\\pytorch\\trainer\\connectors\\data_connector.py:441: The 'test_dataloader' does not have many workers which may be a bottleneck. Consider increasing the value of the `num_workers` argument` to `num_workers=11` in the `DataLoader` to improve performance.\n"
     ]
    },
    {
     "data": {
      "application/vnd.jupyter.widget-view+json": {
       "model_id": "74af5a484bae4ef2b3d4e1e59512f336",
       "version_major": 2,
       "version_minor": 0
      },
      "text/plain": [
       "Testing: |          | 0/? [00:00<?, ?it/s]"
      ]
     },
     "metadata": {},
     "output_type": "display_data"
    },
    {
     "data": {
      "text/html": [
       "<pre style=\"white-space:pre;overflow-x:auto;line-height:normal;font-family:Menlo,'DejaVu Sans Mono',consolas,'Courier New',monospace\">┏━━━━━━━━━━━━━━━━━━━━━━━━━━━━━━┳━━━━━━━━━━━━━━━━━━━━━━━━━━━━━━┓\n",
       "┃<span style=\"font-weight: bold\">         Test metric          </span>┃<span style=\"font-weight: bold\">         DataLoader 0         </span>┃\n",
       "┡━━━━━━━━━━━━━━━━━━━━━━━━━━━━━━╇━━━━━━━━━━━━━━━━━━━━━━━━━━━━━━┩\n",
       "│<span style=\"color: #008080; text-decoration-color: #008080\"> mix_rad1.0_rev0.16_0_0_epoch </span>│<span style=\"color: #800080; text-decoration-color: #800080\">      0.119950070977211       </span>│\n",
       "│<span style=\"color: #008080; text-decoration-color: #008080\"> mix_rad1.0_rev0.16_0_1_epoch </span>│<span style=\"color: #800080; text-decoration-color: #800080\">             inf              </span>│\n",
       "│<span style=\"color: #008080; text-decoration-color: #008080\"> mix_rad1.0_rev0.16_1_0_epoch </span>│<span style=\"color: #800080; text-decoration-color: #800080\">      0.2224656492471695      </span>│\n",
       "│<span style=\"color: #008080; text-decoration-color: #008080\"> mix_rad1.0_rev0.16_1_1_epoch </span>│<span style=\"color: #800080; text-decoration-color: #800080\">             inf              </span>│\n",
       "│<span style=\"color: #008080; text-decoration-color: #008080\"> mix_rad1.0_rev0.36_0_0_epoch </span>│<span style=\"color: #800080; text-decoration-color: #800080\">     -0.1807350218296051      </span>│\n",
       "│<span style=\"color: #008080; text-decoration-color: #008080\"> mix_rad1.0_rev0.36_0_1_epoch </span>│<span style=\"color: #800080; text-decoration-color: #800080\">             inf              </span>│\n",
       "│<span style=\"color: #008080; text-decoration-color: #008080\"> mix_rad1.0_rev0.36_1_0_epoch </span>│<span style=\"color: #800080; text-decoration-color: #800080\">      0.4670673906803131      </span>│\n",
       "│<span style=\"color: #008080; text-decoration-color: #008080\"> mix_rad1.0_rev0.36_1_1_epoch </span>│<span style=\"color: #800080; text-decoration-color: #800080\">             inf              </span>│\n",
       "│<span style=\"color: #008080; text-decoration-color: #008080\"> mix_rad2.0_rev0.16_0_0_epoch </span>│<span style=\"color: #800080; text-decoration-color: #800080\">     0.16430231928825378      </span>│\n",
       "│<span style=\"color: #008080; text-decoration-color: #008080\"> mix_rad2.0_rev0.16_0_1_epoch </span>│<span style=\"color: #800080; text-decoration-color: #800080\">             inf              </span>│\n",
       "│<span style=\"color: #008080; text-decoration-color: #008080\"> mix_rad2.0_rev0.16_1_0_epoch </span>│<span style=\"color: #800080; text-decoration-color: #800080\">      0.1810220181941986      </span>│\n",
       "│<span style=\"color: #008080; text-decoration-color: #008080\"> mix_rad2.0_rev0.16_1_1_epoch </span>│<span style=\"color: #800080; text-decoration-color: #800080\">             inf              </span>│\n",
       "│<span style=\"color: #008080; text-decoration-color: #008080\"> mix_rad2.0_rev0.36_0_0_epoch </span>│<span style=\"color: #800080; text-decoration-color: #800080\">     0.13166604936122894      </span>│\n",
       "│<span style=\"color: #008080; text-decoration-color: #008080\"> mix_rad2.0_rev0.36_0_1_epoch </span>│<span style=\"color: #800080; text-decoration-color: #800080\">             inf              </span>│\n",
       "│<span style=\"color: #008080; text-decoration-color: #008080\"> mix_rad2.0_rev0.36_1_0_epoch </span>│<span style=\"color: #800080; text-decoration-color: #800080\">      0.0940401554107666      </span>│\n",
       "│<span style=\"color: #008080; text-decoration-color: #008080\"> mix_rad2.0_rev0.36_1_1_epoch </span>│<span style=\"color: #800080; text-decoration-color: #800080\">             inf              </span>│\n",
       "│<span style=\"color: #008080; text-decoration-color: #008080\"> sep_rad1.0_rev0.16_0_0_epoch </span>│<span style=\"color: #800080; text-decoration-color: #800080\">      -7.002167224884033      </span>│\n",
       "│<span style=\"color: #008080; text-decoration-color: #008080\"> sep_rad1.0_rev0.16_0_1_epoch </span>│<span style=\"color: #800080; text-decoration-color: #800080\">             inf              </span>│\n",
       "│<span style=\"color: #008080; text-decoration-color: #008080\"> sep_rad1.0_rev0.16_1_0_epoch </span>│<span style=\"color: #800080; text-decoration-color: #800080\">      -4.04954719543457       </span>│\n",
       "│<span style=\"color: #008080; text-decoration-color: #008080\"> sep_rad1.0_rev0.16_1_1_epoch </span>│<span style=\"color: #800080; text-decoration-color: #800080\">             inf              </span>│\n",
       "│<span style=\"color: #008080; text-decoration-color: #008080\"> sep_rad1.0_rev0.36_0_0_epoch </span>│<span style=\"color: #800080; text-decoration-color: #800080\">     -3.1569104194641113      </span>│\n",
       "│<span style=\"color: #008080; text-decoration-color: #008080\"> sep_rad1.0_rev0.36_0_1_epoch </span>│<span style=\"color: #800080; text-decoration-color: #800080\">             inf              </span>│\n",
       "│<span style=\"color: #008080; text-decoration-color: #008080\"> sep_rad1.0_rev0.36_1_0_epoch </span>│<span style=\"color: #800080; text-decoration-color: #800080\">     -0.8480923771858215      </span>│\n",
       "│<span style=\"color: #008080; text-decoration-color: #008080\"> sep_rad1.0_rev0.36_1_1_epoch </span>│<span style=\"color: #800080; text-decoration-color: #800080\">             inf              </span>│\n",
       "│<span style=\"color: #008080; text-decoration-color: #008080\"> sep_rad2.0_rev0.16_0_0_epoch </span>│<span style=\"color: #800080; text-decoration-color: #800080\">      -4.702014446258545      </span>│\n",
       "│<span style=\"color: #008080; text-decoration-color: #008080\"> sep_rad2.0_rev0.16_0_1_epoch </span>│<span style=\"color: #800080; text-decoration-color: #800080\">             inf              </span>│\n",
       "│<span style=\"color: #008080; text-decoration-color: #008080\"> sep_rad2.0_rev0.16_1_0_epoch </span>│<span style=\"color: #800080; text-decoration-color: #800080\">     -1.4674644470214844      </span>│\n",
       "│<span style=\"color: #008080; text-decoration-color: #008080\"> sep_rad2.0_rev0.16_1_1_epoch </span>│<span style=\"color: #800080; text-decoration-color: #800080\">             inf              </span>│\n",
       "│<span style=\"color: #008080; text-decoration-color: #008080\"> sep_rad2.0_rev0.36_0_0_epoch </span>│<span style=\"color: #800080; text-decoration-color: #800080\">      0.9389053583145142      </span>│\n",
       "│<span style=\"color: #008080; text-decoration-color: #008080\"> sep_rad2.0_rev0.36_0_1_epoch </span>│<span style=\"color: #800080; text-decoration-color: #800080\">             inf              </span>│\n",
       "│<span style=\"color: #008080; text-decoration-color: #008080\"> sep_rad2.0_rev0.36_1_0_epoch </span>│<span style=\"color: #800080; text-decoration-color: #800080\">     -0.32646164298057556     </span>│\n",
       "│<span style=\"color: #008080; text-decoration-color: #008080\"> sep_rad2.0_rev0.36_1_1_epoch </span>│<span style=\"color: #800080; text-decoration-color: #800080\">             inf              </span>│\n",
       "└──────────────────────────────┴──────────────────────────────┘\n",
       "</pre>\n"
      ],
      "text/plain": [
       "┏━━━━━━━━━━━━━━━━━━━━━━━━━━━━━━┳━━━━━━━━━━━━━━━━━━━━━━━━━━━━━━┓\n",
       "┃\u001b[1m \u001b[0m\u001b[1m        Test metric         \u001b[0m\u001b[1m \u001b[0m┃\u001b[1m \u001b[0m\u001b[1m        DataLoader 0        \u001b[0m\u001b[1m \u001b[0m┃\n",
       "┡━━━━━━━━━━━━━━━━━━━━━━━━━━━━━━╇━━━━━━━━━━━━━━━━━━━━━━━━━━━━━━┩\n",
       "│\u001b[36m \u001b[0m\u001b[36mmix_rad1.0_rev0.16_0_0_epoch\u001b[0m\u001b[36m \u001b[0m│\u001b[35m \u001b[0m\u001b[35m     0.119950070977211      \u001b[0m\u001b[35m \u001b[0m│\n",
       "│\u001b[36m \u001b[0m\u001b[36mmix_rad1.0_rev0.16_0_1_epoch\u001b[0m\u001b[36m \u001b[0m│\u001b[35m \u001b[0m\u001b[35m            inf             \u001b[0m\u001b[35m \u001b[0m│\n",
       "│\u001b[36m \u001b[0m\u001b[36mmix_rad1.0_rev0.16_1_0_epoch\u001b[0m\u001b[36m \u001b[0m│\u001b[35m \u001b[0m\u001b[35m     0.2224656492471695     \u001b[0m\u001b[35m \u001b[0m│\n",
       "│\u001b[36m \u001b[0m\u001b[36mmix_rad1.0_rev0.16_1_1_epoch\u001b[0m\u001b[36m \u001b[0m│\u001b[35m \u001b[0m\u001b[35m            inf             \u001b[0m\u001b[35m \u001b[0m│\n",
       "│\u001b[36m \u001b[0m\u001b[36mmix_rad1.0_rev0.36_0_0_epoch\u001b[0m\u001b[36m \u001b[0m│\u001b[35m \u001b[0m\u001b[35m    -0.1807350218296051     \u001b[0m\u001b[35m \u001b[0m│\n",
       "│\u001b[36m \u001b[0m\u001b[36mmix_rad1.0_rev0.36_0_1_epoch\u001b[0m\u001b[36m \u001b[0m│\u001b[35m \u001b[0m\u001b[35m            inf             \u001b[0m\u001b[35m \u001b[0m│\n",
       "│\u001b[36m \u001b[0m\u001b[36mmix_rad1.0_rev0.36_1_0_epoch\u001b[0m\u001b[36m \u001b[0m│\u001b[35m \u001b[0m\u001b[35m     0.4670673906803131     \u001b[0m\u001b[35m \u001b[0m│\n",
       "│\u001b[36m \u001b[0m\u001b[36mmix_rad1.0_rev0.36_1_1_epoch\u001b[0m\u001b[36m \u001b[0m│\u001b[35m \u001b[0m\u001b[35m            inf             \u001b[0m\u001b[35m \u001b[0m│\n",
       "│\u001b[36m \u001b[0m\u001b[36mmix_rad2.0_rev0.16_0_0_epoch\u001b[0m\u001b[36m \u001b[0m│\u001b[35m \u001b[0m\u001b[35m    0.16430231928825378     \u001b[0m\u001b[35m \u001b[0m│\n",
       "│\u001b[36m \u001b[0m\u001b[36mmix_rad2.0_rev0.16_0_1_epoch\u001b[0m\u001b[36m \u001b[0m│\u001b[35m \u001b[0m\u001b[35m            inf             \u001b[0m\u001b[35m \u001b[0m│\n",
       "│\u001b[36m \u001b[0m\u001b[36mmix_rad2.0_rev0.16_1_0_epoch\u001b[0m\u001b[36m \u001b[0m│\u001b[35m \u001b[0m\u001b[35m     0.1810220181941986     \u001b[0m\u001b[35m \u001b[0m│\n",
       "│\u001b[36m \u001b[0m\u001b[36mmix_rad2.0_rev0.16_1_1_epoch\u001b[0m\u001b[36m \u001b[0m│\u001b[35m \u001b[0m\u001b[35m            inf             \u001b[0m\u001b[35m \u001b[0m│\n",
       "│\u001b[36m \u001b[0m\u001b[36mmix_rad2.0_rev0.36_0_0_epoch\u001b[0m\u001b[36m \u001b[0m│\u001b[35m \u001b[0m\u001b[35m    0.13166604936122894     \u001b[0m\u001b[35m \u001b[0m│\n",
       "│\u001b[36m \u001b[0m\u001b[36mmix_rad2.0_rev0.36_0_1_epoch\u001b[0m\u001b[36m \u001b[0m│\u001b[35m \u001b[0m\u001b[35m            inf             \u001b[0m\u001b[35m \u001b[0m│\n",
       "│\u001b[36m \u001b[0m\u001b[36mmix_rad2.0_rev0.36_1_0_epoch\u001b[0m\u001b[36m \u001b[0m│\u001b[35m \u001b[0m\u001b[35m     0.0940401554107666     \u001b[0m\u001b[35m \u001b[0m│\n",
       "│\u001b[36m \u001b[0m\u001b[36mmix_rad2.0_rev0.36_1_1_epoch\u001b[0m\u001b[36m \u001b[0m│\u001b[35m \u001b[0m\u001b[35m            inf             \u001b[0m\u001b[35m \u001b[0m│\n",
       "│\u001b[36m \u001b[0m\u001b[36msep_rad1.0_rev0.16_0_0_epoch\u001b[0m\u001b[36m \u001b[0m│\u001b[35m \u001b[0m\u001b[35m     -7.002167224884033     \u001b[0m\u001b[35m \u001b[0m│\n",
       "│\u001b[36m \u001b[0m\u001b[36msep_rad1.0_rev0.16_0_1_epoch\u001b[0m\u001b[36m \u001b[0m│\u001b[35m \u001b[0m\u001b[35m            inf             \u001b[0m\u001b[35m \u001b[0m│\n",
       "│\u001b[36m \u001b[0m\u001b[36msep_rad1.0_rev0.16_1_0_epoch\u001b[0m\u001b[36m \u001b[0m│\u001b[35m \u001b[0m\u001b[35m     -4.04954719543457      \u001b[0m\u001b[35m \u001b[0m│\n",
       "│\u001b[36m \u001b[0m\u001b[36msep_rad1.0_rev0.16_1_1_epoch\u001b[0m\u001b[36m \u001b[0m│\u001b[35m \u001b[0m\u001b[35m            inf             \u001b[0m\u001b[35m \u001b[0m│\n",
       "│\u001b[36m \u001b[0m\u001b[36msep_rad1.0_rev0.36_0_0_epoch\u001b[0m\u001b[36m \u001b[0m│\u001b[35m \u001b[0m\u001b[35m    -3.1569104194641113     \u001b[0m\u001b[35m \u001b[0m│\n",
       "│\u001b[36m \u001b[0m\u001b[36msep_rad1.0_rev0.36_0_1_epoch\u001b[0m\u001b[36m \u001b[0m│\u001b[35m \u001b[0m\u001b[35m            inf             \u001b[0m\u001b[35m \u001b[0m│\n",
       "│\u001b[36m \u001b[0m\u001b[36msep_rad1.0_rev0.36_1_0_epoch\u001b[0m\u001b[36m \u001b[0m│\u001b[35m \u001b[0m\u001b[35m    -0.8480923771858215     \u001b[0m\u001b[35m \u001b[0m│\n",
       "│\u001b[36m \u001b[0m\u001b[36msep_rad1.0_rev0.36_1_1_epoch\u001b[0m\u001b[36m \u001b[0m│\u001b[35m \u001b[0m\u001b[35m            inf             \u001b[0m\u001b[35m \u001b[0m│\n",
       "│\u001b[36m \u001b[0m\u001b[36msep_rad2.0_rev0.16_0_0_epoch\u001b[0m\u001b[36m \u001b[0m│\u001b[35m \u001b[0m\u001b[35m     -4.702014446258545     \u001b[0m\u001b[35m \u001b[0m│\n",
       "│\u001b[36m \u001b[0m\u001b[36msep_rad2.0_rev0.16_0_1_epoch\u001b[0m\u001b[36m \u001b[0m│\u001b[35m \u001b[0m\u001b[35m            inf             \u001b[0m\u001b[35m \u001b[0m│\n",
       "│\u001b[36m \u001b[0m\u001b[36msep_rad2.0_rev0.16_1_0_epoch\u001b[0m\u001b[36m \u001b[0m│\u001b[35m \u001b[0m\u001b[35m    -1.4674644470214844     \u001b[0m\u001b[35m \u001b[0m│\n",
       "│\u001b[36m \u001b[0m\u001b[36msep_rad2.0_rev0.16_1_1_epoch\u001b[0m\u001b[36m \u001b[0m│\u001b[35m \u001b[0m\u001b[35m            inf             \u001b[0m\u001b[35m \u001b[0m│\n",
       "│\u001b[36m \u001b[0m\u001b[36msep_rad2.0_rev0.36_0_0_epoch\u001b[0m\u001b[36m \u001b[0m│\u001b[35m \u001b[0m\u001b[35m     0.9389053583145142     \u001b[0m\u001b[35m \u001b[0m│\n",
       "│\u001b[36m \u001b[0m\u001b[36msep_rad2.0_rev0.36_0_1_epoch\u001b[0m\u001b[36m \u001b[0m│\u001b[35m \u001b[0m\u001b[35m            inf             \u001b[0m\u001b[35m \u001b[0m│\n",
       "│\u001b[36m \u001b[0m\u001b[36msep_rad2.0_rev0.36_1_0_epoch\u001b[0m\u001b[36m \u001b[0m│\u001b[35m \u001b[0m\u001b[35m    -0.32646164298057556    \u001b[0m\u001b[35m \u001b[0m│\n",
       "│\u001b[36m \u001b[0m\u001b[36msep_rad2.0_rev0.36_1_1_epoch\u001b[0m\u001b[36m \u001b[0m│\u001b[35m \u001b[0m\u001b[35m            inf             \u001b[0m\u001b[35m \u001b[0m│\n",
       "└──────────────────────────────┴──────────────────────────────┘\n"
      ]
     },
     "metadata": {},
     "output_type": "display_data"
    },
    {
     "data": {
      "text/plain": [
       "[{'mix_rad1.0_rev0.16_0_0_epoch': 0.119950070977211,\n",
       "  'mix_rad1.0_rev0.16_0_1_epoch': inf,\n",
       "  'mix_rad1.0_rev0.16_1_0_epoch': 0.2224656492471695,\n",
       "  'mix_rad1.0_rev0.16_1_1_epoch': inf,\n",
       "  'sep_rad1.0_rev0.16_0_0_epoch': -7.002167224884033,\n",
       "  'sep_rad1.0_rev0.16_0_1_epoch': inf,\n",
       "  'sep_rad1.0_rev0.16_1_0_epoch': -4.04954719543457,\n",
       "  'sep_rad1.0_rev0.16_1_1_epoch': inf,\n",
       "  'mix_rad1.0_rev0.36_0_0_epoch': -0.1807350218296051,\n",
       "  'mix_rad1.0_rev0.36_0_1_epoch': inf,\n",
       "  'mix_rad1.0_rev0.36_1_0_epoch': 0.4670673906803131,\n",
       "  'mix_rad1.0_rev0.36_1_1_epoch': inf,\n",
       "  'sep_rad1.0_rev0.36_0_0_epoch': -3.1569104194641113,\n",
       "  'sep_rad1.0_rev0.36_0_1_epoch': inf,\n",
       "  'sep_rad1.0_rev0.36_1_0_epoch': -0.8480923771858215,\n",
       "  'sep_rad1.0_rev0.36_1_1_epoch': inf,\n",
       "  'mix_rad2.0_rev0.16_0_0_epoch': 0.16430231928825378,\n",
       "  'mix_rad2.0_rev0.16_0_1_epoch': inf,\n",
       "  'mix_rad2.0_rev0.16_1_0_epoch': 0.1810220181941986,\n",
       "  'mix_rad2.0_rev0.16_1_1_epoch': inf,\n",
       "  'sep_rad2.0_rev0.16_0_0_epoch': -4.702014446258545,\n",
       "  'sep_rad2.0_rev0.16_0_1_epoch': inf,\n",
       "  'sep_rad2.0_rev0.16_1_0_epoch': -1.4674644470214844,\n",
       "  'sep_rad2.0_rev0.16_1_1_epoch': inf,\n",
       "  'mix_rad2.0_rev0.36_0_0_epoch': 0.13166604936122894,\n",
       "  'mix_rad2.0_rev0.36_0_1_epoch': inf,\n",
       "  'mix_rad2.0_rev0.36_1_0_epoch': 0.0940401554107666,\n",
       "  'mix_rad2.0_rev0.36_1_1_epoch': inf,\n",
       "  'sep_rad2.0_rev0.36_0_0_epoch': 0.9389053583145142,\n",
       "  'sep_rad2.0_rev0.36_0_1_epoch': inf,\n",
       "  'sep_rad2.0_rev0.36_1_0_epoch': -0.32646164298057556,\n",
       "  'sep_rad2.0_rev0.36_1_1_epoch': inf}]"
      ]
     },
     "execution_count": 7,
     "metadata": {},
     "output_type": "execute_result"
    }
   ],
   "source": [
    "trainer.test(model_lighting, dataloaders=test_dataloader)"
   ]
  },
  {
   "cell_type": "code",
   "execution_count": null,
   "metadata": {},
   "outputs": [],
   "source": [
    "# all_t_data = torch.load('data_batches/train06r076_42.pt')\n",
    "# all_t_data_small = {k: v[:2] for k,v in all_t_data.items()}\n",
    "# probs = model_lighting.model(all_t_data_small['samples'].cuda())\n",
    "# print(probs.shape)\n",
    "# print(probs.device)\n",
    "# print(all_t_data_small['samples'].device)\n",
    "\n",
    "# all_t_data_small['probs'] = probs.detach().cpu()\n",
    "# torch.save(all_t_data_small, 'samples_test1605_v2.pt')\n",
    "# print('\\n'.join([f\"{k}: {v.shape}\" for k,v in all_t_data_small.items()]))"
   ]
  },
  {
   "cell_type": "code",
   "execution_count": null,
   "metadata": {},
   "outputs": [],
   "source": [
    "# from metrics import SeparatedSource\n",
    "\n",
    "# for i, batch in enumerate(test_dataset):\n",
    "#     samples, ref_stft, target, mixed_signals, perceived_signals = batch\n",
    "#     samples = samples.to('cuda', dtype=torch.float)\n",
    "#     print(samples.shape)\n",
    "#     probs = model(samples)\n",
    "#     ref_spec = ref_stft.detach().cpu().numpy()\n",
    "#     samp_probs = probs.detach().cpu().numpy()\n",
    "#     sep_src = SeparatedSource(ref_spec[1:], samp_probs)\n",
    "#     sep_src.save(f\"sep_{i}.wav\")"
   ]
  },
  {
   "cell_type": "code",
   "execution_count": null,
   "metadata": {},
   "outputs": [],
   "source": [
    "from metrics import SeparatedSource\n",
    "import sounddevice as sd\n",
    "import torch.nn.functional as F\n",
    "i = iter(test_dataloader)\n",
    "_ = next(i)\n",
    "samples, ref_stft, target, mixed_signals, perceived_signals = next(i)\n",
    "samples = samples.to('cuda', dtype=torch.float)  # (B,S,V)\n",
    "target = target.to('cuda', dtype=torch.long)\n",
    "ref_stft = ref_stft.cuda()\n",
    "mixed_signals = mixed_signals.cuda()\n",
    "perceived_signals = perceived_signals.cuda()\n",
    "\n",
    "print(samples.shape)\n",
    "print(ref_stft.shape)\n",
    "print(target.shape)\n",
    "print(mixed_signals.shape)\n",
    "print(perceived_signals.shape)\n",
    "\n",
    "idx = 0\n",
    "target_onehot = F.one_hot(target[idx] // ANGLE_RES, 13).permute(2, 0, 1)\n",
    "speaker_sources_pred = SeparatedSource.speakers(ref_stft[idx,1:,:], target_onehot)\n",
    "first_speaker = speaker_sources_pred[0].signal().cpu()\n",
    "second_speaker = speaker_sources_pred[1].signal().cpu()\n",
    "import scipy\n",
    "# print(first_speaker.shape)\n",
    "scipy.io.wavfile.write('test2_gt_first_speaker.wav', 16000, first_speaker.numpy())\n",
    "scipy.io.wavfile.write('test2_gt_second_speaker.wav', 16000, second_speaker.numpy())\n",
    "scipy.io.wavfile.write('test2_mixed.wav', 16000, mixed_signals[idx][3].detach().cpu().numpy())\n",
    "print((target[idx] // ANGLE_RES).unique())"
   ]
  },
  {
   "cell_type": "code",
   "execution_count": null,
   "metadata": {},
   "outputs": [],
   "source": [
    "sd.play(speaker_sources_pred[1].signal().cpu(), 16000)\n"
   ]
  }
 ],
 "metadata": {
  "kernelspec": {
   "display_name": "audio_env",
   "language": "python",
   "name": "python3"
  },
  "language_info": {
   "codemirror_mode": {
    "name": "ipython",
    "version": 3
   },
   "file_extension": ".py",
   "mimetype": "text/x-python",
   "name": "python",
   "nbconvert_exporter": "python",
   "pygments_lexer": "ipython3",
   "version": "3.10.0"
  }
 },
 "nbformat": 4,
 "nbformat_minor": 2
}
